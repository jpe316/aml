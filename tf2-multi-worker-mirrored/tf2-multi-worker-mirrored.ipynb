{
 "cells": [
  {
   "cell_type": "code",
   "execution_count": null,
   "metadata": {},
   "outputs": [],
   "source": [
    "import azureml.core\n",
    "print(\"SDK version:\", azureml.core.VERSION)"
   ]
  },
  {
   "cell_type": "code",
   "execution_count": null,
   "metadata": {},
   "outputs": [],
   "source": [
    "from azureml.core.workspace import Workspace\n",
    "\n",
    "ws = Workspace.from_config()\n",
    "print('Workspace name: ' + ws.name, \n",
    "      'Azure region: ' + ws.location, \n",
    "      'Subscription id: ' + ws.subscription_id, \n",
    "      'Resource group: ' + ws.resource_group, sep='\\n')"
   ]
  },
  {
   "cell_type": "code",
   "execution_count": null,
   "metadata": {},
   "outputs": [],
   "source": [
    "from azureml.core.compute import ComputeTarget, AmlCompute\n",
    "\n",
    "cluster_name = \"nc24-cluster\" # replace with your own gpu cluster\n",
    "compute_target = ws.compute_targets[cluster_name]\n",
    "compute_target"
   ]
  },
  {
   "cell_type": "markdown",
   "metadata": {},
   "source": [
    "## TensorFlow 2.x - distributed training with tf.distribute\n",
    "This example is specifically using the TensorFlow MultiWorkerMirroredStrategy (MWM)"
   ]
  },
  {
   "cell_type": "code",
   "execution_count": null,
   "metadata": {},
   "outputs": [],
   "source": [
    "from azureml.core import Experiment\n",
    "\n",
    "exp = Experiment(workspace=ws, name='tf2-mwm')"
   ]
  },
  {
   "cell_type": "code",
   "execution_count": null,
   "metadata": {},
   "outputs": [],
   "source": [
    "from azureml.core import Environment\n",
    "\n",
    "tf_env = Environment.get(ws, name='AzureML-TensorFlow-2.2-GPU')"
   ]
  },
  {
   "cell_type": "code",
   "execution_count": null,
   "metadata": {},
   "outputs": [],
   "source": [
    "import os\n",
    "from azureml.core import ScriptRunConfig\n",
    "from azureml.core.runconfig import TensorflowConfiguration\n",
    "\n",
    "distr_config = TensorflowConfiguration()\n",
    "distr_config.worker_count = 2\n",
    "distr_config.parameter_server_count = 0\n",
    "\n",
    "model_path = os.path.join('outputs', 'keras-model')\n",
    "\n",
    "src = ScriptRunConfig(source_directory='.',\n",
    "                      script='keras_mnist_multi_worker.py',\n",
    "                      arguments=['--epochs', 10, '--model-dir', model_path],\n",
    "                      compute_target=compute_target,\n",
    "                      environment=tf_env,\n",
    "                      distributed_job_config=distr_config)\n",
    "\n",
    "src.run_config.node_count = 2"
   ]
  },
  {
   "cell_type": "markdown",
   "metadata": {},
   "source": [
    "**TO DO:**\n",
    "\n",
    "Once `azureml-sdk` version 1.15.0 is released (ETA 10/5/2020), update the above code to the following:\n",
    "\n",
    "```python\n",
    "import os\n",
    "from azureml.core import ScriptRunConfig\n",
    "from azureml.core.runconfig import TensorflowConfiguration\n",
    "\n",
    "distr_config = TensorflowConfiguration(worker_count=2)\n",
    "\n",
    "model_path = os.path.join('outputs', 'keras-model')\n",
    "\n",
    "src = ScriptRunConfig(source_directory='.',\n",
    "                      script='keras_mnist_multi_worker.py',\n",
    "                      arguments=['--epochs', 10, '--model-dir', model_path],\n",
    "                      compute_target=compute_target,\n",
    "                      environment=tf_env,\n",
    "                      distributed_job_config=distr_config)\n",
    "```"
   ]
  },
  {
   "cell_type": "code",
   "execution_count": null,
   "metadata": {},
   "outputs": [],
   "source": [
    "run = exp.submit(src)"
   ]
  },
  {
   "cell_type": "code",
   "execution_count": null,
   "metadata": {},
   "outputs": [],
   "source": [
    "run.wait_for_completion(show_output=True)"
   ]
  }
 ],
 "metadata": {
  "kernelspec": {
   "display_name": "Python (aml-sdk)",
   "language": "python",
   "name": "aml-sdk"
  },
  "language_info": {
   "codemirror_mode": {
    "name": "ipython",
    "version": 3
   },
   "file_extension": ".py",
   "mimetype": "text/x-python",
   "name": "python",
   "nbconvert_exporter": "python",
   "pygments_lexer": "ipython3",
   "version": "3.7.7"
  }
 },
 "nbformat": 4,
 "nbformat_minor": 2
}
