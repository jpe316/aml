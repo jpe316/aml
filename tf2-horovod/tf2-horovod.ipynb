{
 "cells": [
  {
   "cell_type": "code",
   "execution_count": null,
   "metadata": {},
   "outputs": [],
   "source": [
    "import azureml.core\n",
    "print(\"SDK version:\", azureml.core.VERSION)"
   ]
  },
  {
   "cell_type": "code",
   "execution_count": null,
   "metadata": {},
   "outputs": [],
   "source": [
    "from azureml.core.workspace import Workspace\n",
    "\n",
    "ws = Workspace.from_config()\n",
    "print('Workspace name: ' + ws.name, \n",
    "      'Azure region: ' + ws.location, \n",
    "      'Subscription id: ' + ws.subscription_id, \n",
    "      'Resource group: ' + ws.resource_group, sep='\\n')"
   ]
  },
  {
   "cell_type": "code",
   "execution_count": null,
   "metadata": {},
   "outputs": [],
   "source": [
    "from azureml.core.compute import ComputeTarget, AmlCompute\n",
    "\n",
    "cluster_name = \"nc24-cluster\" # replace with your own gpu cluster\n",
    "compute_target = ws.compute_targets[cluster_name]\n",
    "compute_target"
   ]
  },
  {
   "cell_type": "markdown",
   "metadata": {},
   "source": [
    "## TensorFlow 2.x - distributed training with Horovod"
   ]
  },
  {
   "cell_type": "code",
   "execution_count": null,
   "metadata": {},
   "outputs": [],
   "source": [
    "from azureml.core import Experiment\n",
    "\n",
    "exp = Experiment(workspace=ws, name='tf2-horovod')"
   ]
  },
  {
   "cell_type": "code",
   "execution_count": null,
   "metadata": {},
   "outputs": [],
   "source": [
    "from azureml.core import Environment\n",
    "\n",
    "# get a curated environment (just to use as reference)\n",
    "reference_env = Environment.get(ws, name='AzureML-TensorFlow-2.1-GPU')\n",
    "reference_env.save_to_directory(path='./AzureML-TensorFlow-2.1-GPU')"
   ]
  },
  {
   "cell_type": "code",
   "execution_count": null,
   "metadata": {},
   "outputs": [],
   "source": [
    "%%writefile conda_dependencies.yml\n",
    "\n",
    "channels:\n",
    "- conda-forge\n",
    "dependencies:\n",
    "- python=3.6.2\n",
    "- pip:\n",
    "  - azureml-core==1.10.0\n",
    "  - azureml-defaults==1.10.0\n",
    "  - azureml-telemetry==1.10.0\n",
    "  - azureml-train-restclients-hyperdrive==1.10.0\n",
    "  - azureml-train-core==1.10.0\n",
    "  - tensorflow-gpu==2.2.0\n",
    "  - horovod==0.19.5"
   ]
  },
  {
   "cell_type": "code",
   "execution_count": null,
   "metadata": {},
   "outputs": [],
   "source": [
    "tf_env = Environment.from_conda_specification(name = \"tensorflow-gpu-2.2-horovod-0.19.5\",\n",
    "                                             file_path = \"./conda_dependencies.yml\")\n",
    "tf_env.docker.enabled = True\n",
    "tf_env.docker.base_image = \"mcr.microsoft.com/azureml/openmpi3.1.2-cuda10.1-cudnn7-ubuntu18.04\"\n",
    "tf_env"
   ]
  },
  {
   "cell_type": "markdown",
   "metadata": {},
   "source": [
    "**TO DO:**\n",
    "\n",
    "Once the TensorFlow 2.2 curated environment is updated to use `horovod==0.19.5` rather than `horovod==0.19.1`, update the above environment configuration code to instead use the following:\n",
    "\n",
    "```python\n",
    "from azureml.core import Environment\n",
    "tf_env = Environment.get(ws, name='AzureML-TensorFlow-2.2-GPU')\n",
    "```"
   ]
  },
  {
   "cell_type": "code",
   "execution_count": null,
   "metadata": {},
   "outputs": [],
   "source": [
    "from azureml.core import ScriptRunConfig\n",
    "from azureml.core.runconfig import MpiConfiguration\n",
    "\n",
    "distr_config = MpiConfiguration()\n",
    "distr_config.process_count_per_node = 4 # replace with the # of GPUs in the SKU of your compute cluster\n",
    "\n",
    "src = ScriptRunConfig(source_directory='.',\n",
    "                      script='tf2_keras_mnist.py',\n",
    "                      compute_target=compute_target,\n",
    "                      environment=tf_env,\n",
    "                      distributed_job_config=distr_config)\n",
    "\n",
    "src.run_config.node_count = 2"
   ]
  },
  {
   "cell_type": "markdown",
   "metadata": {},
   "source": [
    "**TO DO:**\n",
    "\n",
    "Once `azureml-sdk` version 1.15.0 is released (ETA 10/5/2020), update the above code to the following:\n",
    "\n",
    "```python\n",
    "from azureml.core import ScriptRunConfig\n",
    "from azureml.core.runconfig import MpiConfiguration\n",
    "\n",
    "distr_config = MpiConfiguration(process_count_per_node=4, node_count=2)\n",
    "\n",
    "src = ScriptRunConfig(source_directory='.',\n",
    "                      script='tf2_keras_mnist.py',\n",
    "                      compute_target=compute_target,\n",
    "                      environment=tf_env,\n",
    "                      distributed_job_config=distr_config)\n",
    "```"
   ]
  },
  {
   "cell_type": "code",
   "execution_count": null,
   "metadata": {},
   "outputs": [],
   "source": [
    "run = exp.submit(src)"
   ]
  },
  {
   "cell_type": "code",
   "execution_count": null,
   "metadata": {},
   "outputs": [],
   "source": [
    "run.wait_for_completion(show_output=True)"
   ]
  }
 ],
 "metadata": {
  "kernelspec": {
   "display_name": "Python (aml-sdk)",
   "language": "python",
   "name": "aml-sdk"
  },
  "language_info": {
   "codemirror_mode": {
    "name": "ipython",
    "version": 3
   },
   "file_extension": ".py",
   "mimetype": "text/x-python",
   "name": "python",
   "nbconvert_exporter": "python",
   "pygments_lexer": "ipython3",
   "version": "3.7.7"
  }
 },
 "nbformat": 4,
 "nbformat_minor": 2
}
